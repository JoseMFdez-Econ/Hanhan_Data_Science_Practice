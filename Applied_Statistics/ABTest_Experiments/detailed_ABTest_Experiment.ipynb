{
 "cells": [
  {
   "cell_type": "markdown",
   "metadata": {},
   "source": [
    "# Detailed A/B Test Experiment\n",
    "\n",
    "\n",
    "### Problem\n",
    "* There are 2 options for the landing page:\n",
    "  * \"start free trial\"\n",
    "    * If the visitor clicks this option, will be asked for credit card info, and after 14 days they will be charged automatically.\n",
    "  * \"access course materials\"\n",
    "    * If the visitor clicks this option, they can watch videos and take the quiz for free, but won't get coaching nor certificate.\n",
    "* The goal for A/B test here is to see which option could help maximize the course completion. Hmm, in fact this can be hard to guess, since when it's free students may not finish the course, even though there might be more clicks; when it's paid trail, students may be more likely to finish the course even though there might be less visitors.\n",
    "\n",
    "### Hypothesis\n",
    "* H0: P_control - P_experiment = 0\n",
    "  * `P_control` is the conversion rate of control group, `P_experiment` is the conversion rate of experiment group.\n",
    "* H1: P_control - P_experiment = d\n",
    "  * `d` is the detectable effect\n",
    "\n",
    "### Metrics\n",
    "#### Invariate Metrics\n",
    "* They are majorly used for sanity check.\n",
    "* Pick those metrics considered not to change, and make sire they won't change dramatically between the control and experiment groups.\n",
    "\n",
    "#### Evaluation Metrics\n",
    "* The metrics are expected to see changes between the control and the experiment group.These metrics are related to the business goals.\n",
    "* Each metrics has a `Dmin`, indicating the min change that's practically significant to the business."
   ]
  },
  {
   "cell_type": "code",
   "execution_count": 39,
   "metadata": {},
   "outputs": [],
   "source": [
    "import pandas as pd\n",
    "import math\n",
    "from scipy.stats import norm"
   ]
  },
  {
   "cell_type": "markdown",
   "metadata": {},
   "source": [
    "## Data Overview\n",
    "\n",
    "* Each pgeview is a unique cookie\n",
    "* Control group: \"access course materials\" option\n",
    "* Experiment group: \"free trail\" option"
   ]
  },
  {
   "cell_type": "code",
   "execution_count": 6,
   "metadata": {},
   "outputs": [
    {
     "data": {
      "text/html": [
       "<div>\n",
       "<style scoped>\n",
       "    .dataframe tbody tr th:only-of-type {\n",
       "        vertical-align: middle;\n",
       "    }\n",
       "\n",
       "    .dataframe tbody tr th {\n",
       "        vertical-align: top;\n",
       "    }\n",
       "\n",
       "    .dataframe thead th {\n",
       "        text-align: right;\n",
       "    }\n",
       "</style>\n",
       "<table border=\"1\" class=\"dataframe\">\n",
       "  <thead>\n",
       "    <tr style=\"text-align: right;\">\n",
       "      <th></th>\n",
       "      <th>Date</th>\n",
       "      <th>Pageviews</th>\n",
       "      <th>Clicks</th>\n",
       "      <th>Enrollments</th>\n",
       "      <th>Payments</th>\n",
       "    </tr>\n",
       "  </thead>\n",
       "  <tbody>\n",
       "    <tr>\n",
       "      <td>0</td>\n",
       "      <td>Sat, Oct 11</td>\n",
       "      <td>7723</td>\n",
       "      <td>687</td>\n",
       "      <td>134.0</td>\n",
       "      <td>70.0</td>\n",
       "    </tr>\n",
       "    <tr>\n",
       "      <td>1</td>\n",
       "      <td>Sun, Oct 12</td>\n",
       "      <td>9102</td>\n",
       "      <td>779</td>\n",
       "      <td>147.0</td>\n",
       "      <td>70.0</td>\n",
       "    </tr>\n",
       "    <tr>\n",
       "      <td>2</td>\n",
       "      <td>Mon, Oct 13</td>\n",
       "      <td>10511</td>\n",
       "      <td>909</td>\n",
       "      <td>167.0</td>\n",
       "      <td>95.0</td>\n",
       "    </tr>\n",
       "    <tr>\n",
       "      <td>3</td>\n",
       "      <td>Tue, Oct 14</td>\n",
       "      <td>9871</td>\n",
       "      <td>836</td>\n",
       "      <td>156.0</td>\n",
       "      <td>105.0</td>\n",
       "    </tr>\n",
       "    <tr>\n",
       "      <td>4</td>\n",
       "      <td>Wed, Oct 15</td>\n",
       "      <td>10014</td>\n",
       "      <td>837</td>\n",
       "      <td>163.0</td>\n",
       "      <td>64.0</td>\n",
       "    </tr>\n",
       "  </tbody>\n",
       "</table>\n",
       "</div>"
      ],
      "text/plain": [
       "          Date  Pageviews  Clicks  Enrollments  Payments\n",
       "0  Sat, Oct 11       7723     687        134.0      70.0\n",
       "1  Sun, Oct 12       9102     779        147.0      70.0\n",
       "2  Mon, Oct 13      10511     909        167.0      95.0\n",
       "3  Tue, Oct 14       9871     836        156.0     105.0\n",
       "4  Wed, Oct 15      10014     837        163.0      64.0"
      ]
     },
     "execution_count": 6,
     "metadata": {},
     "output_type": "execute_result"
    }
   ],
   "source": [
    "# Control group\n",
    "control_df = pd.read_csv('ab_control.csv')\n",
    "control_df.head()"
   ]
  },
  {
   "cell_type": "code",
   "execution_count": 9,
   "metadata": {},
   "outputs": [
    {
     "data": {
      "text/html": [
       "<div>\n",
       "<style scoped>\n",
       "    .dataframe tbody tr th:only-of-type {\n",
       "        vertical-align: middle;\n",
       "    }\n",
       "\n",
       "    .dataframe tbody tr th {\n",
       "        vertical-align: top;\n",
       "    }\n",
       "\n",
       "    .dataframe thead th {\n",
       "        text-align: right;\n",
       "    }\n",
       "</style>\n",
       "<table border=\"1\" class=\"dataframe\">\n",
       "  <thead>\n",
       "    <tr style=\"text-align: right;\">\n",
       "      <th></th>\n",
       "      <th>Date</th>\n",
       "      <th>Pageviews</th>\n",
       "      <th>Clicks</th>\n",
       "      <th>Enrollments</th>\n",
       "      <th>Payments</th>\n",
       "    </tr>\n",
       "  </thead>\n",
       "  <tbody>\n",
       "    <tr>\n",
       "      <td>0</td>\n",
       "      <td>Sat, Oct 11</td>\n",
       "      <td>7716</td>\n",
       "      <td>686</td>\n",
       "      <td>105.0</td>\n",
       "      <td>34.0</td>\n",
       "    </tr>\n",
       "    <tr>\n",
       "      <td>1</td>\n",
       "      <td>Sun, Oct 12</td>\n",
       "      <td>9288</td>\n",
       "      <td>785</td>\n",
       "      <td>116.0</td>\n",
       "      <td>91.0</td>\n",
       "    </tr>\n",
       "    <tr>\n",
       "      <td>2</td>\n",
       "      <td>Mon, Oct 13</td>\n",
       "      <td>10480</td>\n",
       "      <td>884</td>\n",
       "      <td>145.0</td>\n",
       "      <td>79.0</td>\n",
       "    </tr>\n",
       "    <tr>\n",
       "      <td>3</td>\n",
       "      <td>Tue, Oct 14</td>\n",
       "      <td>9867</td>\n",
       "      <td>827</td>\n",
       "      <td>138.0</td>\n",
       "      <td>92.0</td>\n",
       "    </tr>\n",
       "    <tr>\n",
       "      <td>4</td>\n",
       "      <td>Wed, Oct 15</td>\n",
       "      <td>9793</td>\n",
       "      <td>832</td>\n",
       "      <td>140.0</td>\n",
       "      <td>94.0</td>\n",
       "    </tr>\n",
       "  </tbody>\n",
       "</table>\n",
       "</div>"
      ],
      "text/plain": [
       "          Date  Pageviews  Clicks  Enrollments  Payments\n",
       "0  Sat, Oct 11       7716     686        105.0      34.0\n",
       "1  Sun, Oct 12       9288     785        116.0      91.0\n",
       "2  Mon, Oct 13      10480     884        145.0      79.0\n",
       "3  Tue, Oct 14       9867     827        138.0      92.0\n",
       "4  Wed, Oct 15       9793     832        140.0      94.0"
      ]
     },
     "execution_count": 9,
     "metadata": {},
     "output_type": "execute_result"
    }
   ],
   "source": [
    "# Experiment group\n",
    "experiment_df = pd.read_csv('ab_experiment.csv')\n",
    "experiment_df.head()"
   ]
  },
  {
   "cell_type": "code",
   "execution_count": 10,
   "metadata": {},
   "outputs": [
    {
     "data": {
      "text/html": [
       "<div>\n",
       "<style scoped>\n",
       "    .dataframe tbody tr th:only-of-type {\n",
       "        vertical-align: middle;\n",
       "    }\n",
       "\n",
       "    .dataframe tbody tr th {\n",
       "        vertical-align: top;\n",
       "    }\n",
       "\n",
       "    .dataframe thead th {\n",
       "        text-align: right;\n",
       "    }\n",
       "</style>\n",
       "<table border=\"1\" class=\"dataframe\">\n",
       "  <thead>\n",
       "    <tr style=\"text-align: right;\">\n",
       "      <th></th>\n",
       "      <th>Pageviews</th>\n",
       "      <th>Clicks</th>\n",
       "      <th>Enrollments</th>\n",
       "      <th>Payments</th>\n",
       "    </tr>\n",
       "  </thead>\n",
       "  <tbody>\n",
       "    <tr>\n",
       "      <td>count</td>\n",
       "      <td>37.000000</td>\n",
       "      <td>37.000000</td>\n",
       "      <td>23.000000</td>\n",
       "      <td>23.000000</td>\n",
       "    </tr>\n",
       "    <tr>\n",
       "      <td>mean</td>\n",
       "      <td>9339.000000</td>\n",
       "      <td>766.972973</td>\n",
       "      <td>164.565217</td>\n",
       "      <td>88.391304</td>\n",
       "    </tr>\n",
       "    <tr>\n",
       "      <td>std</td>\n",
       "      <td>740.239563</td>\n",
       "      <td>68.286767</td>\n",
       "      <td>29.977000</td>\n",
       "      <td>20.650202</td>\n",
       "    </tr>\n",
       "    <tr>\n",
       "      <td>min</td>\n",
       "      <td>7434.000000</td>\n",
       "      <td>632.000000</td>\n",
       "      <td>110.000000</td>\n",
       "      <td>56.000000</td>\n",
       "    </tr>\n",
       "    <tr>\n",
       "      <td>25%</td>\n",
       "      <td>8896.000000</td>\n",
       "      <td>708.000000</td>\n",
       "      <td>146.500000</td>\n",
       "      <td>70.000000</td>\n",
       "    </tr>\n",
       "    <tr>\n",
       "      <td>50%</td>\n",
       "      <td>9420.000000</td>\n",
       "      <td>759.000000</td>\n",
       "      <td>162.000000</td>\n",
       "      <td>91.000000</td>\n",
       "    </tr>\n",
       "    <tr>\n",
       "      <td>75%</td>\n",
       "      <td>9871.000000</td>\n",
       "      <td>825.000000</td>\n",
       "      <td>175.000000</td>\n",
       "      <td>102.500000</td>\n",
       "    </tr>\n",
       "    <tr>\n",
       "      <td>max</td>\n",
       "      <td>10667.000000</td>\n",
       "      <td>909.000000</td>\n",
       "      <td>233.000000</td>\n",
       "      <td>128.000000</td>\n",
       "    </tr>\n",
       "  </tbody>\n",
       "</table>\n",
       "</div>"
      ],
      "text/plain": [
       "          Pageviews      Clicks  Enrollments    Payments\n",
       "count     37.000000   37.000000    23.000000   23.000000\n",
       "mean    9339.000000  766.972973   164.565217   88.391304\n",
       "std      740.239563   68.286767    29.977000   20.650202\n",
       "min     7434.000000  632.000000   110.000000   56.000000\n",
       "25%     8896.000000  708.000000   146.500000   70.000000\n",
       "50%     9420.000000  759.000000   162.000000   91.000000\n",
       "75%     9871.000000  825.000000   175.000000  102.500000\n",
       "max    10667.000000  909.000000   233.000000  128.000000"
      ]
     },
     "execution_count": 10,
     "metadata": {},
     "output_type": "execute_result"
    }
   ],
   "source": [
    "control_df.describe()"
   ]
  },
  {
   "cell_type": "code",
   "execution_count": 11,
   "metadata": {},
   "outputs": [
    {
     "data": {
      "text/html": [
       "<div>\n",
       "<style scoped>\n",
       "    .dataframe tbody tr th:only-of-type {\n",
       "        vertical-align: middle;\n",
       "    }\n",
       "\n",
       "    .dataframe tbody tr th {\n",
       "        vertical-align: top;\n",
       "    }\n",
       "\n",
       "    .dataframe thead th {\n",
       "        text-align: right;\n",
       "    }\n",
       "</style>\n",
       "<table border=\"1\" class=\"dataframe\">\n",
       "  <thead>\n",
       "    <tr style=\"text-align: right;\">\n",
       "      <th></th>\n",
       "      <th>Pageviews</th>\n",
       "      <th>Clicks</th>\n",
       "      <th>Enrollments</th>\n",
       "      <th>Payments</th>\n",
       "    </tr>\n",
       "  </thead>\n",
       "  <tbody>\n",
       "    <tr>\n",
       "      <td>count</td>\n",
       "      <td>37.000000</td>\n",
       "      <td>37.000000</td>\n",
       "      <td>23.000000</td>\n",
       "      <td>23.000000</td>\n",
       "    </tr>\n",
       "    <tr>\n",
       "      <td>mean</td>\n",
       "      <td>9315.135135</td>\n",
       "      <td>765.540541</td>\n",
       "      <td>148.826087</td>\n",
       "      <td>84.565217</td>\n",
       "    </tr>\n",
       "    <tr>\n",
       "      <td>std</td>\n",
       "      <td>708.070781</td>\n",
       "      <td>64.578374</td>\n",
       "      <td>33.234227</td>\n",
       "      <td>23.060841</td>\n",
       "    </tr>\n",
       "    <tr>\n",
       "      <td>min</td>\n",
       "      <td>7664.000000</td>\n",
       "      <td>642.000000</td>\n",
       "      <td>94.000000</td>\n",
       "      <td>34.000000</td>\n",
       "    </tr>\n",
       "    <tr>\n",
       "      <td>25%</td>\n",
       "      <td>8881.000000</td>\n",
       "      <td>722.000000</td>\n",
       "      <td>127.000000</td>\n",
       "      <td>69.000000</td>\n",
       "    </tr>\n",
       "    <tr>\n",
       "      <td>50%</td>\n",
       "      <td>9359.000000</td>\n",
       "      <td>770.000000</td>\n",
       "      <td>142.000000</td>\n",
       "      <td>91.000000</td>\n",
       "    </tr>\n",
       "    <tr>\n",
       "      <td>75%</td>\n",
       "      <td>9737.000000</td>\n",
       "      <td>827.000000</td>\n",
       "      <td>172.000000</td>\n",
       "      <td>99.000000</td>\n",
       "    </tr>\n",
       "    <tr>\n",
       "      <td>max</td>\n",
       "      <td>10551.000000</td>\n",
       "      <td>884.000000</td>\n",
       "      <td>213.000000</td>\n",
       "      <td>123.000000</td>\n",
       "    </tr>\n",
       "  </tbody>\n",
       "</table>\n",
       "</div>"
      ],
      "text/plain": [
       "          Pageviews      Clicks  Enrollments    Payments\n",
       "count     37.000000   37.000000    23.000000   23.000000\n",
       "mean    9315.135135  765.540541   148.826087   84.565217\n",
       "std      708.070781   64.578374    33.234227   23.060841\n",
       "min     7664.000000  642.000000    94.000000   34.000000\n",
       "25%     8881.000000  722.000000   127.000000   69.000000\n",
       "50%     9359.000000  770.000000   142.000000   91.000000\n",
       "75%     9737.000000  827.000000   172.000000   99.000000\n",
       "max    10551.000000  884.000000   213.000000  123.000000"
      ]
     },
     "execution_count": 11,
     "metadata": {},
     "output_type": "execute_result"
    }
   ],
   "source": [
    "experiment_df.describe()"
   ]
  },
  {
   "cell_type": "markdown",
   "metadata": {},
   "source": [
    "## Step 1 - Choose Metrics\n",
    "\n",
    "### Invariate Metrics\n",
    "* `Ck = unique daily cookies (pageviews) on a page`\n",
    "  * Dmin = 3000\n",
    "* `Cl = unique daily clicks on the free trial button`\n",
    "  * Dmin = 240\n",
    "* `CTP = Cl/Ck`, free trial button click through probability\n",
    "  * Dmin = 0.01"
   ]
  },
  {
   "cell_type": "markdown",
   "metadata": {},
   "source": [
    "### Evaluation Metrics\n",
    "\n",
    "* `GConversion = enrolled/Cl`\n",
    "  * It's gross conversion\n",
    "  * Dmin = 0.01\n",
    "  * Probability of daily enrolled among daily clicked free trial button\n",
    "* `Retention = paid/enrolled`\n",
    "  * Dmin = 0.01\n",
    "  * Probability of daily paid among daily enrolled\n",
    "* `NConversion = paid/Cl`\n",
    "  * It's net conversion\n",
    "  * Dmin = 0.01\n",
    "  * Probability of daily paid among daily clicked free trial button"
   ]
  },
  {
   "cell_type": "markdown",
   "metadata": {},
   "source": [
    "## Step 2 - Estimate Metrics Baseline Values\n",
    "\n",
    "* The baseline values are the values of these metrics before the change.\n",
    "* These values are given by the data provider Udacity, it's their rough estimation."
   ]
  },
  {
   "cell_type": "code",
   "execution_count": 28,
   "metadata": {},
   "outputs": [],
   "source": [
    "baseline = {'Cookies': 40000, 'Clicks': 3200, 'Enrollments': 660, 'CTP': 0.08,\n",
    "           'GConversion': 0.20625, 'Retention': 0.53, 'NConversion': 0.109313}"
   ]
  },
  {
   "cell_type": "markdown",
   "metadata": {},
   "source": [
    "## Estimate Standard Deviation & Sample Size\n",
    "\n",
    "### Estimate Standard Deviation of Metrics\n",
    "* This is for later estimating sample size, confidence interval.\n",
    "* <b>The more variant of a metric, the more difficult to reach to a significant result.</b>\n",
    "* In order to estimate variance, <b>assume metrics probabilities `p_hat` are binomially distributed</b>, (probability density function PDF is binomially distribution), then standard deviation is:\n",
    "  * `std = sqrt(p_hat*(1-p_hat)/n)`\n",
    "    * `p_hat`: baseline probability of the event to occur\n",
    "    * `n`: sample size\n",
    "  * The reason we assume it's binomial distribution for probability density function is because, the logic here is if not option A then option B.\n",
    "* The assumption is only valid when the unit of diversion of the experiment is equal to the unit of analysis (the denominator of the metric formula). If the assumption is not valid, the calculated std can be different and better to estimate empirically."
   ]
  },
  {
   "cell_type": "code",
   "execution_count": 29,
   "metadata": {},
   "outputs": [
    {
     "data": {
      "text/plain": [
       "{'Cookies': 5000,\n",
       " 'Clicks': 400.0,\n",
       " 'Enrollments': 82.5,\n",
       " 'CTP': 0.08,\n",
       " 'GConversion': 0.20625,\n",
       " 'Retention': 0.53,\n",
       " 'NConversion': 0.109313}"
      ]
     },
     "execution_count": 29,
     "metadata": {},
     "output_type": "execute_result"
    }
   ],
   "source": [
    "sample_baseline = baseline.copy()\n",
    "\n",
    "sample_baseline['Cookies'] = 5000  # assume sample size is 5000\n",
    "sample_baseline['Clicks'] = baseline['Clicks'] * 5000/baseline['Cookies']\n",
    "sample_baseline['Enrollments'] = baseline['Enrollments'] * 5000/baseline['Cookies']\n",
    "\n",
    "sample_baseline"
   ]
  },
  {
   "cell_type": "code",
   "execution_count": 33,
   "metadata": {},
   "outputs": [],
   "source": [
    "def get_binomial_std(p_hat, n):\n",
    "    \"\"\"\n",
    "    p_hat: baseline probability of the event to occur\n",
    "    n: sample size\n",
    "    return: the standard deviation\n",
    "    \"\"\"\n",
    "    std = round(math.sqrt(p_hat*(1-p_hat)/n),4)\n",
    "    \n",
    "    return std"
   ]
  },
  {
   "cell_type": "markdown",
   "metadata": {},
   "source": [
    "#### Gross Conversion std\n",
    "* `p_hat = enrolled/Cl`\n",
    "  * probability of daily enrolled among daily clicked free trial button"
   ]
  },
  {
   "cell_type": "code",
   "execution_count": 34,
   "metadata": {},
   "outputs": [
    {
     "data": {
      "text/plain": [
       "{'d_min': 0.01, 'p_hat': 0.20625, 'n': 400.0, 'std': 0.0202}"
      ]
     },
     "execution_count": 34,
     "metadata": {},
     "output_type": "execute_result"
    }
   ],
   "source": [
    "gross_conversion = {}\n",
    "\n",
    "gross_conversion['d_min'] = 0.01\n",
    "gross_conversion['p_hat'] = sample_baseline['GConversion']\n",
    "gross_conversion['n'] = sample_baseline['Clicks']\n",
    "gross_conversion['std'] = get_binomial_std(gross_conversion['p_hat'],\n",
    "                                          gross_conversion['n'])\n",
    "\n",
    "gross_conversion"
   ]
  },
  {
   "cell_type": "markdown",
   "metadata": {},
   "source": [
    "#### Revention std"
   ]
  },
  {
   "cell_type": "code",
   "execution_count": 37,
   "metadata": {},
   "outputs": [
    {
     "data": {
      "text/plain": [
       "{'d_min': 0.01, 'p_hat': 0.53, 'n': 82.5, 'std': 0.0549}"
      ]
     },
     "execution_count": 37,
     "metadata": {},
     "output_type": "execute_result"
    }
   ],
   "source": [
    "retention = {}\n",
    "\n",
    "retention['d_min'] = 0.01\n",
    "retention['p_hat'] = sample_baseline['Retention']\n",
    "retention['n'] = sample_baseline['Enrollments']\n",
    "retention['std'] = get_binomial_std(retention['p_hat'],\n",
    "                                   retention['n'])\n",
    "\n",
    "retention"
   ]
  },
  {
   "cell_type": "markdown",
   "metadata": {},
   "source": [
    "#### Net Conversion std"
   ]
  },
  {
   "cell_type": "code",
   "execution_count": 54,
   "metadata": {},
   "outputs": [
    {
     "data": {
      "text/plain": [
       "{'d_min': 0.0075, 'p_hat': 0.109313, 'n': 400.0, 'std': 0.0156}"
      ]
     },
     "execution_count": 54,
     "metadata": {},
     "output_type": "execute_result"
    }
   ],
   "source": [
    "net_conversion = {}\n",
    "\n",
    "net_conversion['d_min'] = 0.0075\n",
    "net_conversion['p_hat'] = sample_baseline['NConversion']\n",
    "net_conversion['n'] = sample_baseline['Clicks']\n",
    "net_conversion['std'] = get_binomial_std(net_conversion['p_hat'],\n",
    "                                        net_conversion['n'])\n",
    "\n",
    "net_conversion"
   ]
  },
  {
   "cell_type": "markdown",
   "metadata": {},
   "source": [
    "### Estimate Sample Size\n",
    "\n",
    "#### Hypothesis\n",
    "* H0: P_control - P_experiment = 0\n",
    "  * `P_control` is the conversion rate of control group, `P_experiment` is the conversion rate of experiment group.\n",
    "* H1: P_control - P_experiment = d\n",
    "  * `d` is the detectable effect\n",
    "  \n",
    "#### Sample Size Formula\n",
    "* `n = pow(Z1-α/2 * std1 + Z1-β * std2, 2)/pow(d, 2)`\n",
    "  * `Z1-α/2` is the Z score for 1-α/2, α is the probability of Type I error\n",
    "  * `Z1-β` is the Z score for 1-β (Power), β is the probability of Type II error\n",
    "  * `std1 = sqrt(2p*(1-p))`\n",
    "  * `std2 = sqrt(p*(1-p) + (p+d)*(1-(p+d)))`\n",
    "    * `p` is the baseline conversion rate, it's the p_hat from above\n",
    "    * `d` is the detectable effect, it's the `d_min` from above\n",
    "    \n",
    "* This is the <b>online calculator</b> for sample size: https://www.evanmiller.org/ab-testing/sample-size.html\n",
    "  * Given p, d, α and 1-β"
   ]
  },
  {
   "cell_type": "code",
   "execution_count": 42,
   "metadata": {},
   "outputs": [],
   "source": [
    "def get_z_score(alpha):\n",
    "    return norm.ppf(alpha)\n",
    "\n",
    "\n",
    "def get_stds(p, d):\n",
    "    std1 = math.sqrt(2*p*(1-p))\n",
    "    std2 = math.sqrt(p*(1-p) + (p+d)*(1-(p+d)))\n",
    "    \n",
    "    std_lst = [std1, std2]\n",
    "    return std_lst\n",
    "    \n",
    "    \n",
    "def get_sample_size(std_lst, alpha, beta, d):\n",
    "    n = pow(get_z_score(1-alpha/2)*std_lst[0] + get_z_score(1-beta)*std_lst[1], 2)/pow(d,2)\n",
    "    return n"
   ]
  },
  {
   "cell_type": "code",
   "execution_count": 44,
   "metadata": {},
   "outputs": [],
   "source": [
    "alpha = 0.05\n",
    "beta = 0.2"
   ]
  },
  {
   "cell_type": "markdown",
   "metadata": {},
   "source": [
    "#### Gross Conversion Sample Size\n",
    "\n",
    "* Calculated sample_size means estimated number of enrolled in each group\n",
    "* In order to get estimated page_views (unique cookies), needs to use sample_size/(400/5000) * 2 for both control and experiments groups\n",
    "  * multuple 2 means for both groups"
   ]
  },
  {
   "cell_type": "code",
   "execution_count": 49,
   "metadata": {},
   "outputs": [
    {
     "data": {
      "text/plain": [
       "{'d_min': 0.01,\n",
       " 'p_hat': 0.20625,\n",
       " 'n': 400.0,\n",
       " 'std': 0.0202,\n",
       " 'sample_size': 25835.0,\n",
       " 'page_views': 645876.0}"
      ]
     },
     "execution_count": 49,
     "metadata": {},
     "output_type": "execute_result"
    }
   ],
   "source": [
    "gross_conversion['sample_size'] = round(get_sample_size(get_stds(gross_conversion['p_hat'],\n",
    "                                                          gross_conversion['d_min']), alpha, beta,\n",
    "                                                 gross_conversion['d_min']))\n",
    "gross_conversion['page_views'] = 2*round(gross_conversion['sample_size']/(gross_conversion['n']/5000))\n",
    "\n",
    "gross_conversion"
   ]
  },
  {
   "cell_type": "markdown",
   "metadata": {},
   "source": [
    "#### Retention Sample Size\n",
    "\n",
    "* Calculated sample_size means estimated number of paid in each group\n",
    "* In order to get estimated page_views (unique cookies), needs to use sample_size/(82.5/5000) * 2 for both control and experiments groups\n",
    "  * multuple 2 means for both groups\n",
    "* The required page_views is too large, if 40000 views a day, it will take 100 days to get the data. So this metric Retention might be given up."
   ]
  },
  {
   "cell_type": "code",
   "execution_count": 52,
   "metadata": {},
   "outputs": [
    {
     "data": {
      "text/plain": [
       "{'d_min': 0.01,\n",
       " 'p_hat': 0.53,\n",
       " 'n': 82.5,\n",
       " 'std': 0.0549,\n",
       " 'sample_size': 39087.0,\n",
       " 'page_views': 4737818.0}"
      ]
     },
     "execution_count": 52,
     "metadata": {},
     "output_type": "execute_result"
    }
   ],
   "source": [
    "retention['sample_size'] = round(get_sample_size(get_stds(retention['p_hat'],\n",
    "                                                          retention['d_min']), alpha, beta,\n",
    "                                                 retention['d_min']))\n",
    "retention['page_views'] = 2*round(retention['sample_size']/(retention['n']/5000))\n",
    "retention"
   ]
  },
  {
   "cell_type": "markdown",
   "metadata": {},
   "source": [
    "#### Net Conversion Sample Size\n",
    "\n",
    "* Calculated sample_size means estimated number of paid in each group\n",
    "* In order to get estimated page_views (unique cookies), needs to use sample_size/(400/5000) * 2 for both control and experiments groups\n",
    "  * multuple 2 means for both groups\n",
    "* Assume 40000 page_views per day, in order to get such amount page views, it takes about 3 weeks."
   ]
  },
  {
   "cell_type": "code",
   "execution_count": 55,
   "metadata": {},
   "outputs": [
    {
     "data": {
      "text/plain": [
       "{'d_min': 0.0075,\n",
       " 'p_hat': 0.109313,\n",
       " 'n': 400.0,\n",
       " 'std': 0.0156,\n",
       " 'sample_size': 27413.0,\n",
       " 'page_views': 685324.0}"
      ]
     },
     "execution_count": 55,
     "metadata": {},
     "output_type": "execute_result"
    }
   ],
   "source": [
    "net_conversion['sample_size'] = round(get_sample_size(get_stds(net_conversion['p_hat'],\n",
    "                                                         net_conversion['d_min']), alpha, beta,\n",
    "                                                         net_conversion['d_min']))\n",
    "net_conversion['page_views'] = 2*round(net_conversion['sample_size']/(net_conversion['n']/5000))\n",
    "\n",
    "net_conversion"
   ]
  },
  {
   "cell_type": "markdown",
   "metadata": {},
   "source": [
    "## Step 3 - Control Group vs. Experiment Group"
   ]
  },
  {
   "cell_type": "code",
   "execution_count": 56,
   "metadata": {},
   "outputs": [
    {
     "data": {
      "text/html": [
       "<div>\n",
       "<style scoped>\n",
       "    .dataframe tbody tr th:only-of-type {\n",
       "        vertical-align: middle;\n",
       "    }\n",
       "\n",
       "    .dataframe tbody tr th {\n",
       "        vertical-align: top;\n",
       "    }\n",
       "\n",
       "    .dataframe thead th {\n",
       "        text-align: right;\n",
       "    }\n",
       "</style>\n",
       "<table border=\"1\" class=\"dataframe\">\n",
       "  <thead>\n",
       "    <tr style=\"text-align: right;\">\n",
       "      <th></th>\n",
       "      <th>Date</th>\n",
       "      <th>Pageviews</th>\n",
       "      <th>Clicks</th>\n",
       "      <th>Enrollments</th>\n",
       "      <th>Payments</th>\n",
       "    </tr>\n",
       "  </thead>\n",
       "  <tbody>\n",
       "    <tr>\n",
       "      <td>0</td>\n",
       "      <td>Sat, Oct 11</td>\n",
       "      <td>7723</td>\n",
       "      <td>687</td>\n",
       "      <td>134.0</td>\n",
       "      <td>70.0</td>\n",
       "    </tr>\n",
       "    <tr>\n",
       "      <td>1</td>\n",
       "      <td>Sun, Oct 12</td>\n",
       "      <td>9102</td>\n",
       "      <td>779</td>\n",
       "      <td>147.0</td>\n",
       "      <td>70.0</td>\n",
       "    </tr>\n",
       "    <tr>\n",
       "      <td>2</td>\n",
       "      <td>Mon, Oct 13</td>\n",
       "      <td>10511</td>\n",
       "      <td>909</td>\n",
       "      <td>167.0</td>\n",
       "      <td>95.0</td>\n",
       "    </tr>\n",
       "    <tr>\n",
       "      <td>3</td>\n",
       "      <td>Tue, Oct 14</td>\n",
       "      <td>9871</td>\n",
       "      <td>836</td>\n",
       "      <td>156.0</td>\n",
       "      <td>105.0</td>\n",
       "    </tr>\n",
       "    <tr>\n",
       "      <td>4</td>\n",
       "      <td>Wed, Oct 15</td>\n",
       "      <td>10014</td>\n",
       "      <td>837</td>\n",
       "      <td>163.0</td>\n",
       "      <td>64.0</td>\n",
       "    </tr>\n",
       "  </tbody>\n",
       "</table>\n",
       "</div>"
      ],
      "text/plain": [
       "          Date  Pageviews  Clicks  Enrollments  Payments\n",
       "0  Sat, Oct 11       7723     687        134.0      70.0\n",
       "1  Sun, Oct 12       9102     779        147.0      70.0\n",
       "2  Mon, Oct 13      10511     909        167.0      95.0\n",
       "3  Tue, Oct 14       9871     836        156.0     105.0\n",
       "4  Wed, Oct 15      10014     837        163.0      64.0"
      ]
     },
     "execution_count": 56,
     "metadata": {},
     "output_type": "execute_result"
    }
   ],
   "source": [
    "control_df.head()"
   ]
  },
  {
   "cell_type": "code",
   "execution_count": 57,
   "metadata": {},
   "outputs": [
    {
     "data": {
      "text/html": [
       "<div>\n",
       "<style scoped>\n",
       "    .dataframe tbody tr th:only-of-type {\n",
       "        vertical-align: middle;\n",
       "    }\n",
       "\n",
       "    .dataframe tbody tr th {\n",
       "        vertical-align: top;\n",
       "    }\n",
       "\n",
       "    .dataframe thead th {\n",
       "        text-align: right;\n",
       "    }\n",
       "</style>\n",
       "<table border=\"1\" class=\"dataframe\">\n",
       "  <thead>\n",
       "    <tr style=\"text-align: right;\">\n",
       "      <th></th>\n",
       "      <th>Date</th>\n",
       "      <th>Pageviews</th>\n",
       "      <th>Clicks</th>\n",
       "      <th>Enrollments</th>\n",
       "      <th>Payments</th>\n",
       "    </tr>\n",
       "  </thead>\n",
       "  <tbody>\n",
       "    <tr>\n",
       "      <td>0</td>\n",
       "      <td>Sat, Oct 11</td>\n",
       "      <td>7716</td>\n",
       "      <td>686</td>\n",
       "      <td>105.0</td>\n",
       "      <td>34.0</td>\n",
       "    </tr>\n",
       "    <tr>\n",
       "      <td>1</td>\n",
       "      <td>Sun, Oct 12</td>\n",
       "      <td>9288</td>\n",
       "      <td>785</td>\n",
       "      <td>116.0</td>\n",
       "      <td>91.0</td>\n",
       "    </tr>\n",
       "    <tr>\n",
       "      <td>2</td>\n",
       "      <td>Mon, Oct 13</td>\n",
       "      <td>10480</td>\n",
       "      <td>884</td>\n",
       "      <td>145.0</td>\n",
       "      <td>79.0</td>\n",
       "    </tr>\n",
       "    <tr>\n",
       "      <td>3</td>\n",
       "      <td>Tue, Oct 14</td>\n",
       "      <td>9867</td>\n",
       "      <td>827</td>\n",
       "      <td>138.0</td>\n",
       "      <td>92.0</td>\n",
       "    </tr>\n",
       "    <tr>\n",
       "      <td>4</td>\n",
       "      <td>Wed, Oct 15</td>\n",
       "      <td>9793</td>\n",
       "      <td>832</td>\n",
       "      <td>140.0</td>\n",
       "      <td>94.0</td>\n",
       "    </tr>\n",
       "  </tbody>\n",
       "</table>\n",
       "</div>"
      ],
      "text/plain": [
       "          Date  Pageviews  Clicks  Enrollments  Payments\n",
       "0  Sat, Oct 11       7716     686        105.0      34.0\n",
       "1  Sun, Oct 12       9288     785        116.0      91.0\n",
       "2  Mon, Oct 13      10480     884        145.0      79.0\n",
       "3  Tue, Oct 14       9867     827        138.0      92.0\n",
       "4  Wed, Oct 15       9793     832        140.0      94.0"
      ]
     },
     "execution_count": 57,
     "metadata": {},
     "output_type": "execute_result"
    }
   ],
   "source": [
    "experiment_df.head()"
   ]
  },
  {
   "cell_type": "markdown",
   "metadata": {},
   "source": [
    "### Step 3.1 - Differences in Invariant Metrics (Sanity Check)\n",
    "\n",
    "* The goal is to verify the experiment is conducted as expected, and won't be affected by other factors. Also to make sure the data collection is correct.\n",
    "* Invariant Metrics\n",
    "  * Ck = unique daily cookies (pageviews) on a page\n",
    "  * Cl = unique daily clicks on the free trial button\n",
    "  * CTP = Cl/Ck, free trial button click through probability\n",
    "* <b>We need to compare the invariant metrics in both groups, to make sure the differences are not significant.</b>"
   ]
  },
  {
   "cell_type": "code",
   "execution_count": 60,
   "metadata": {},
   "outputs": [],
   "source": [
    "p=0.5\n",
    "alpha=0.05"
   ]
  },
  {
   "cell_type": "code",
   "execution_count": 62,
   "metadata": {},
   "outputs": [],
   "source": [
    "def get_std(p, total_size):\n",
    "    std = math.sqrt(p*(1-p)/total_size)\n",
    "    return std\n",
    "\n",
    "def get_marginOferror(std, alpha):\n",
    "    me = round(get_z_score(1-alpha/2)*std, 4)\n",
    "    return me"
   ]
  },
  {
   "cell_type": "markdown",
   "metadata": {},
   "source": [
    "#### Compare pageviews\n",
    "\n",
    "* We want to verify that the difference between pageview counts in the 2 groups are not significant.\n",
    "* When sample size n is large enough, it can be approximated as normal distribution. We want to test that pbserved `p_hat = control group pageviews/both groups pageviews` is not significantly different from p=0.5.\n",
    "  * Margin of Error `ME = Z1-α/2 * std`\n",
    "    * We need to calculate ME at 95% confidence interval\n",
    "  * Then we will get Confidence Interval `CI = [p_hat - ME, p_hat + ME]`\n",
    "    * If p=0.5 is within CI, then the difference between the 2 groups are expected"
   ]
  },
  {
   "cell_type": "code",
   "execution_count": 61,
   "metadata": {},
   "outputs": [
    {
     "name": "stdout",
     "output_type": "stream",
     "text": [
      "345543 344660\n"
     ]
    }
   ],
   "source": [
    "control_pageviews = control_df['Pageviews'].sum()\n",
    "experiment_pageviews = experiment_df['Pageviews'].sum()\n",
    "\n",
    "print(control_pageviews, experiment_pageviews)"
   ]
  },
  {
   "cell_type": "code",
   "execution_count": 67,
   "metadata": {},
   "outputs": [
    {
     "name": "stdout",
     "output_type": "stream",
     "text": [
      "If 0.5 is within [0.4994, 0.5018], then the difference is expected.\n"
     ]
    }
   ],
   "source": [
    "total_pageviews = control_pageviews + experiment_pageviews\n",
    "p_hat = control_pageviews/(total_pageviews)\n",
    "std = get_std(p, total_pageviews)\n",
    "me = get_marginOferror(std, alpha)\n",
    "\n",
    "print('If ' + str(p) +' is within [' + str(round(p_hat - me, 4)) + ', ' + str(round(p_hat + me, 4)) + '], then the difference is expected.')"
   ]
  },
  {
   "cell_type": "markdown",
   "metadata": {},
   "source": [
    "#### Compare clicks\n",
    "\n",
    "* Similar to pageviews comparison above."
   ]
  },
  {
   "cell_type": "code",
   "execution_count": 90,
   "metadata": {},
   "outputs": [
    {
     "name": "stdout",
     "output_type": "stream",
     "text": [
      "28378 28325\n"
     ]
    }
   ],
   "source": [
    "control_clicks = control_df['Clicks'].sum()\n",
    "experiment_clicks = experiment_df['Clicks'].sum()\n",
    "\n",
    "print(control_clicks, experiment_clicks)"
   ]
  },
  {
   "cell_type": "code",
   "execution_count": 91,
   "metadata": {},
   "outputs": [
    {
     "name": "stdout",
     "output_type": "stream",
     "text": [
      "If 0.5 is within [0.4964, 0.5046], then the difference is expected.\n"
     ]
    }
   ],
   "source": [
    "total_clicks = control_clicks + experiment_clicks\n",
    "p_hat = control_clicks/(total_clicks)\n",
    "std = get_std(p, total_clicks)\n",
    "me = get_marginOferror(std, alpha)\n",
    "\n",
    "print('If ' + str(p) +' is within [' + str(round(p_hat - me, 4)) + ', ' + str(round(p_hat + me, 4)) + '], then the difference is expected.')"
   ]
  },
  {
   "cell_type": "markdown",
   "metadata": {},
   "source": [
    "#### Compare CTP (Click Through Probability)\n",
    "\n",
    "* Because CTP is a proportion in the population, so we need to use pooled standard deviation to calculate the margin of error.\n",
    "  * `p_pool = (experiment_clicks + control_clicks)/(experiment_pageviews + control_pageviews)`\n",
    "  * `std_pool = sqrt(p_pool*(1-p_pool)*(1/experiment_pageviews + 1/control_pageviews))`"
   ]
  },
  {
   "cell_type": "code",
   "execution_count": 92,
   "metadata": {},
   "outputs": [
    {
     "name": "stdout",
     "output_type": "stream",
     "text": [
      "If 0.0001 is within [-0.0013, 0.0013], then the difference is expected.\n"
     ]
    }
   ],
   "source": [
    "control_ctp = control_clicks/control_pageviews\n",
    "experiment_ctp = experiment_clicks/experiment_pageviews\n",
    "p_pool = (control_clicks + experiment_clicks)/(control_pageviews + experiment_pageviews)\n",
    "std_pool = math.sqrt(p_pool*(1-p_pool)*(1/experiment_pageviews + 1/control_pageviews))\n",
    "me = get_marginOferror(std_pool, alpha)\n",
    "\n",
    "diff = round(experiment_ctp - control_ctp, 4)\n",
    "\n",
    "print('If ' + str(diff) +' is within [' + str(round(0 - me, 4)) + ', ' + str(round(0 + me, 4)) + '], then the difference is expected.')"
   ]
  },
  {
   "cell_type": "markdown",
   "metadata": {},
   "source": [
    "#### Summary for Sanity Check\n",
    "\n",
    "* We have checked all the 3 invariant metrics between the 2 groups, all showing the differences are not significant, so the experiments of using these 2 groups should be less likely affected by other factors."
   ]
  },
  {
   "cell_type": "markdown",
   "metadata": {},
   "source": [
    "### Step 3.2 - Differences in Evaluation Metrics\n",
    "\n",
    "* Similar to the sanity check above, here is to check the differences in evaluation metrics between the 2 groups,to see:\n",
    "  * Whether the differences are statistically significant.\n",
    "  * Whether the differences are practically significant.\n",
    "    * So that the changes are big enough to be beneficial to the business.\n",
    "    * Difference is not included in the confidence interval `[Dmin - ME, Dmin + ME]`\n",
    "    \n",
    "* As Step 2 has found, Gross Conversion and Net Conversion can be the evaluation metrics, while Retention is not. All because of the limitation in data collection in reality.\n",
    "\n",
    "* Evaluation Metrics\n",
    "  * `GConversion = enrolled/Cl`\n",
    "    * It's gross conversion\n",
    "    * Dmin = 0.01\n",
    "    * Probability of daily enrolled among daily clicked free trial button\n",
    "  * `NConversion = paid/Cl`\n",
    "    * It's net conversion\n",
    "    * Dmin = 0.01\n",
    "    * Probability of daily paid among daily clicked free trial button"
   ]
  },
  {
   "cell_type": "code",
   "execution_count": 81,
   "metadata": {},
   "outputs": [
    {
     "name": "stdout",
     "output_type": "stream",
     "text": [
      "Date            0\n",
      "Pageviews       0\n",
      "Clicks          0\n",
      "Enrollments    14\n",
      "Payments       14\n",
      "dtype: int64\n",
      "\n",
      "Date            0\n",
      "Pageviews       0\n",
      "Clicks          0\n",
      "Enrollments    14\n",
      "Payments       14\n",
      "dtype: int64\n"
     ]
    }
   ],
   "source": [
    "print(control_df.isnull().sum())\n",
    "print()\n",
    "print(experiment_df.isnull().sum())"
   ]
  },
  {
   "cell_type": "markdown",
   "metadata": {},
   "source": [
    "#### Compare Gross Conversion\n",
    "\n",
    "* The method here is almost the same as what's used in \"Compare CTP\" above.\n",
    "\n",
    "* Observation\n",
    "  * As we can see in the result, the change in experiment group is both statistically and pratically significant.\n",
    "  * From control group to experiment group, there is a negative change. Which means there is 2.06% decrease in enrollment, and it's significant. So less people will enroll after free trail button appeared."
   ]
  },
  {
   "cell_type": "code",
   "execution_count": 93,
   "metadata": {},
   "outputs": [
    {
     "name": "stdout",
     "output_type": "stream",
     "text": [
      "Clicks 17293 17260\n",
      "Enrollments 3785.0 3423.0\n",
      "Gross Conversion 0.2188746891805933 0.19831981460023174\n"
     ]
    }
   ],
   "source": [
    "control_clicks = control_df['Clicks'].loc[control_df['Enrollments'].notnull()].sum()\n",
    "experiment_clicks = experiment_df['Clicks'].loc[experiment_df['Enrollments'].notnull()].sum()\n",
    "print('Clicks', control_clicks, experiment_clicks)\n",
    "\n",
    "control_enrolls = control_df['Enrollments'].sum()\n",
    "experiment_enrolls = experiment_df['Enrollments'].sum()\n",
    "print('Enrollments', control_enrolls, experiment_enrolls)\n",
    "\n",
    "control_GC = control_enrolls/control_clicks\n",
    "experiment_GC = experiment_enrolls/experiment_clicks\n",
    "print('Gross Conversion', control_GC, experiment_GC)"
   ]
  },
  {
   "cell_type": "code",
   "execution_count": 94,
   "metadata": {},
   "outputs": [
    {
     "name": "stdout",
     "output_type": "stream",
     "text": [
      "0.20860706740369866 0.004371675385225936 0.0086\n"
     ]
    }
   ],
   "source": [
    "p_pool = (control_enrolls + experiment_enrolls)/(control_clicks + experiment_clicks)\n",
    "std_pool = math.sqrt(p_pool*(1-p_pool)*(1/control_clicks + 1/experiment_clicks))\n",
    "me = get_marginOferror(std_pool, alpha)\n",
    "\n",
    "print(p_pool, std_pool, me)"
   ]
  },
  {
   "cell_type": "code",
   "execution_count": 97,
   "metadata": {},
   "outputs": [
    {
     "name": "stdout",
     "output_type": "stream",
     "text": [
      "If -0.0206 is within [-0.0086, 0.0086], then the difference is expected, and the change is not significant.\n"
     ]
    }
   ],
   "source": [
    "# Statistical significance\n",
    "GC_diff = round(experiment_GC - control_GC, 4)\n",
    "\n",
    "print('If ' + str(GC_diff) +' is within [' + str(round(0 - me, 4)) + ', ' + str(round(0 + me, 4)) + '], then the difference is expected, and the change is not significant.')"
   ]
  },
  {
   "cell_type": "code",
   "execution_count": 100,
   "metadata": {},
   "outputs": [
    {
     "name": "stdout",
     "output_type": "stream",
     "text": [
      "If -0.0206 is within [0.0014, 0.0186], then the change is not practically significant.\n"
     ]
    }
   ],
   "source": [
    "d_min = gross_conversion['d_min']\n",
    "\n",
    "print('If ' + str(GC_diff) +' is within [' + str(round(d_min - me, 4)) + ', ' + str(round(d_min + me, 4)) + '], then the change is not practically significant.')"
   ]
  },
  {
   "cell_type": "code",
   "execution_count": null,
   "metadata": {},
   "outputs": [],
   "source": []
  }
 ],
 "metadata": {
  "kernelspec": {
   "display_name": "Python 3",
   "language": "python",
   "name": "python3"
  },
  "language_info": {
   "codemirror_mode": {
    "name": "ipython",
    "version": 3
   },
   "file_extension": ".py",
   "mimetype": "text/x-python",
   "name": "python",
   "nbconvert_exporter": "python",
   "pygments_lexer": "ipython3",
   "version": "3.6.5"
  }
 },
 "nbformat": 4,
 "nbformat_minor": 2
}
