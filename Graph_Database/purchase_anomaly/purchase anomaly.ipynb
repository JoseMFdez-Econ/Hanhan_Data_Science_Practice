{
 "cells": [
  {
   "cell_type": "code",
   "execution_count": 45,
   "metadata": {},
   "outputs": [],
   "source": [
    "from neo4j import GraphDatabase\n",
    "import json"
   ]
  },
  {
   "cell_type": "code",
   "execution_count": 46,
   "metadata": {},
   "outputs": [],
   "source": [
    "with open('credentials.json') as json_file:\n",
    "    credentials = json.load(json_file)\n",
    "\n",
    "username = credentials['username']\n",
    "pwd = credentials['password']"
   ]
  },
  {
   "cell_type": "markdown",
   "metadata": {},
   "source": [
    "### NOTE ❣️\n",
    "\n",
    "* BEFORE running this, still need to run `bin\\neo4j console` to enable bolt on 127.0.0.1:7687\n",
    "* When the queryyou wrote is wrong, the error will show connection or credential has problem, you don't really need to restart the server, after the query has been corrected, everything will be running fine.\n",
    "\n",
    "#### Userful Links\n",
    "* Results can be outputed: https://neo4j.com/docs/api/python-driver/current/results.html"
   ]
  },
  {
   "cell_type": "code",
   "execution_count": 47,
   "metadata": {},
   "outputs": [],
   "source": [
    "driver = GraphDatabase.driver(\"bolt://localhost:7687\", auth=(username, pwd))"
   ]
  },
  {
   "cell_type": "code",
   "execution_count": 108,
   "metadata": {},
   "outputs": [],
   "source": [
    "def delete_all(tx):\n",
    "    result = tx.run(\"\"\"match (n) detach delete n\"\"\").single()\n",
    "    if result is None:\n",
    "        print('Removed All!')\n",
    "\n",
    "def create_entity(tx, entity_id, entity_name, entity_properties):\n",
    "    query = \"\"\"CREATE (\"\"\"+entity_id+\"\"\": \"\"\"+entity_name+entity_properties+\"\"\")\"\"\"\n",
    "    result = tx.run(query)\n",
    "    \n",
    "def display_all(tx, query):\n",
    "    for record in tx.run(query):\n",
    "        print(record)"
   ]
  },
  {
   "cell_type": "code",
   "execution_count": 109,
   "metadata": {},
   "outputs": [
    {
     "name": "stdout",
     "output_type": "stream",
     "text": [
      "Removed All!\n",
      "<Record c=<Node id=30 labels={'Client'} properties={'name': 'Alice', 'billing_address': 'a place', 'shipping_address': 'a place', 'ip': '1.1.1.1'}>>\n"
     ]
    }
   ],
   "source": [
    "with driver.session() as session:\n",
    "    session.write_transaction(delete_all)\n",
    "    session.write_transaction(create_entity, entity_id='Alice', entity_name='Client',\n",
    "        entity_properties = \"{name:'Alice', ip: '1.1.1.1', shipping_address: 'a place', billing_address: 'a place'}\")\n",
    "    \n",
    "    session.read_transaction(display_all, query=\"MATCH (c:Client) RETURN c\")"
   ]
  }
 ],
 "metadata": {
  "kernelspec": {
   "display_name": "Python 3",
   "language": "python",
   "name": "python3"
  },
  "language_info": {
   "codemirror_mode": {
    "name": "ipython",
    "version": 3
   },
   "file_extension": ".py",
   "mimetype": "text/x-python",
   "name": "python",
   "nbconvert_exporter": "python",
   "pygments_lexer": "ipython3",
   "version": "3.6.5"
  }
 },
 "nbformat": 4,
 "nbformat_minor": 2
}
