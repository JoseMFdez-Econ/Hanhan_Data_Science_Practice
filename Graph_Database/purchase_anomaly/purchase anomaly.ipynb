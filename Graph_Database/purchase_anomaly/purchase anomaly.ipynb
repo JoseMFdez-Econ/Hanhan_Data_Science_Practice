{
 "cells": [
  {
   "cell_type": "code",
   "execution_count": 1,
   "metadata": {},
   "outputs": [],
   "source": [
    "from neo4j import GraphDatabase\n",
    "import json"
   ]
  },
  {
   "cell_type": "code",
   "execution_count": 2,
   "metadata": {},
   "outputs": [],
   "source": [
    "with open('credentials.json') as json_file:\n",
    "    credentials = json.load(json_file)\n",
    "\n",
    "username = credentials['username']\n",
    "pwd = credentials['password']"
   ]
  },
  {
   "cell_type": "markdown",
   "metadata": {},
   "source": [
    "### NOTE ❣️\n",
    "\n",
    "BEFORE running this, still need to run `bin\\neo4j console` to enable bolt on 127.0.0.1:7687"
   ]
  },
  {
   "cell_type": "code",
   "execution_count": 3,
   "metadata": {},
   "outputs": [],
   "source": [
    "driver = GraphDatabase.driver(\"bolt://localhost:7687\", auth=(username, pwd))"
   ]
  },
  {
   "cell_type": "code",
   "execution_count": null,
   "metadata": {},
   "outputs": [],
   "source": [
    "def create_entity(tx, entity_id, entity_name, entity_properties):\n",
    "    cypher_query = \"\"\"CREATE (\"\"\"+entity_id+\"\"\":\"\"\"+entity_name+str(entity_properties)+\"\"\")\"\"\"\n",
    "    result = tx.run(cypher_query)\n",
    "    return result"
   ]
  }
 ],
 "metadata": {
  "kernelspec": {
   "display_name": "Python 3",
   "language": "python",
   "name": "python3"
  },
  "language_info": {
   "codemirror_mode": {
    "name": "ipython",
    "version": 3
   },
   "file_extension": ".py",
   "mimetype": "text/x-python",
   "name": "python",
   "nbconvert_exporter": "python",
   "pygments_lexer": "ipython3",
   "version": "3.6.5"
  }
 },
 "nbformat": 4,
 "nbformat_minor": 2
}
