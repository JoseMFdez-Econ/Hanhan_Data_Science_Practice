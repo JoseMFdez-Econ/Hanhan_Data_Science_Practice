{
 "cells": [
  {
   "cell_type": "code",
   "execution_count": 45,
   "metadata": {},
   "outputs": [],
   "source": [
    "from neo4j import GraphDatabase\n",
    "import json"
   ]
  },
  {
   "cell_type": "code",
   "execution_count": 46,
   "metadata": {},
   "outputs": [],
   "source": [
    "with open('credentials.json') as json_file:\n",
    "    credentials = json.load(json_file)\n",
    "\n",
    "username = credentials['username']\n",
    "pwd = credentials['password']"
   ]
  },
  {
   "cell_type": "markdown",
   "metadata": {},
   "source": [
    "### NOTE ❣️\n",
    "\n",
    "* BEFORE running this, still need to run `bin\\neo4j console` to enable bolt on 127.0.0.1:7687\n",
    "* When the queryyou wrote is wrong, the error will show connection or credential has problem, you don't really need to restart the server, after the query has been corrected, everything will be running fine.\n",
    "\n",
    "#### Userful Links\n",
    "* Results can be outputed: https://neo4j.com/docs/api/python-driver/current/results.html"
   ]
  },
  {
   "cell_type": "code",
   "execution_count": 47,
   "metadata": {},
   "outputs": [],
   "source": [
    "driver = GraphDatabase.driver(\"bolt://localhost:7687\", auth=(username, pwd))"
   ]
  },
  {
   "cell_type": "code",
   "execution_count": 113,
   "metadata": {},
   "outputs": [],
   "source": [
    "def delete_all(tx):\n",
    "    result = tx.run(\"\"\"match (n) detach delete n\"\"\").single()\n",
    "    if result is None:\n",
    "        print('Removed All!')\n",
    "\n",
    "def create_entity(tx, entity_id, entity_name, entity_properties):\n",
    "    query = \"\"\"CREATE (\"\"\"+entity_id+\"\"\": \"\"\"+entity_name+entity_properties+\"\"\")\"\"\"\n",
    "    result = tx.run(query)\n",
    "    \n",
    "def display_all(tx, query):\n",
    "    results = tx.run(query)\n",
    "    for record in results:\n",
    "        print(record)\n",
    "    return results.graph()"
   ]
  },
  {
   "cell_type": "code",
   "execution_count": 119,
   "metadata": {},
   "outputs": [
    {
     "name": "stdout",
     "output_type": "stream",
     "text": [
      "Removed All!\n",
      "<Record c=<Node id=18 labels={'Client'} properties={'name': 'Alice', 'billing_address': 'a place', 'shipping_address': 'a place', 'ip': '1.1.1.1'}>>\n"
     ]
    }
   ],
   "source": [
    "with driver.session() as session:\n",
    "    session.write_transaction(delete_all)\n",
    "    session.write_transaction(create_entity, entity_id='Alice', entity_name='Client',\n",
    "        entity_properties = \"{name:'Alice', ip: '1.1.1.1', shipping_address: 'a place', billing_address: 'a place'}\")\n",
    "    \n",
    "    graph = session.read_transaction(display_all, query=\"MATCH (c:Client) RETURN c\")"
   ]
  },
  {
   "cell_type": "code",
   "execution_count": 114,
   "metadata": {},
   "outputs": [],
   "source": [
    "def create_all(tx, query):\n",
    "    result = tx.run(query)\n",
    "    \n",
    "    query = \"\"\"\n",
    "        // Clients\n",
    "        CREATE (Alice:Client {name:'Alice', ip: '1.1.1.1', shipping_address: 'a place', billing_address: 'a place'})\n",
    "        CREATE (Bob:Client {name:'Bob', ip: '1.1.1.2', shipping_address: 'b place', billing_address: 'b place'})\n",
    "        CREATE (Cindy:Client {name:'Cindy', ip: '1.1.1.3', shipping_address: 'c place', billing_address: 'c place'})\n",
    "        CREATE (Diana:Client {name:'Diana', ip: '1.1.1.4', shipping_address: 'd place', billing_address: 'd place'})\n",
    "        CREATE (Emily:Client {name:'Emily', ip: '1.1.1.5', shipping_address: 'e place', billing_address: 'e place'})\n",
    "        CREATE (Fiona:Client {name:'Fiona', ip: '1.1.1.6', shipping_address: 'f place', billing_address: 'f place'})\n",
    "\n",
    "        // Products\n",
    "        CREATE (prod1:Product {name: 'strawberry ice-cream', category: 'ice-cream', price: 6.9, unit: 'box'})\n",
    "        CREATE (prod2:Product {name: 'mint ice-cream', category: 'ice-cream', price: 6.9, unit: 'box'})\n",
    "        CREATE (prod3:Product {name: 'mango ice-cream', category: 'ice-cream', price: 6.9, unit: 'box'})\n",
    "        CREATE (prod4:Product {name: 'cheesecake ice-cream', category: 'ice-cream', price: 7.9, unit: 'box'})\n",
    "        CREATE (prod5:Product {name: 'orange', category: 'furit', unit: 'lb', price: 2.6, unit: 'box'})\n",
    "        CREATE (prod6:Product {name: 'dragon fruit', category: 'furit', unit: 'lb', price: 4.8, unit: 'box'})\n",
    "        CREATE (prod7:Product {name: 'kiwi', category: 'furit', unit: 'lb', price: 5.3, unit: 'box'})\n",
    "        CREATE (prod8:Product {name: 'cherry', category: 'furit', unit: 'lb', price: 4.8, unit: 'box'})\n",
    "        CREATE (prod9:Product {name: 'strawberry', category: 'furit', unit: 'lb', price: 3.9, unit: 'box'})\n",
    "\n",
    "        // Orders\n",
    "        CREATE (d1:Order {id:'d1', name:'d1', deliverdate:'20190410', status:'delivered'})\n",
    "        CREATE (d2:Order {id:'d2', name:'d2', deliverdate:'20130708', status:'delivered'})\n",
    "        CREATE (d3:Order {id:'d3', name:'d3', deliverdate:'20021201', status:'delivered'})\n",
    "        CREATE (d4:Order {id:'d4', name:'d4', deliverdate:'20040612', status:'delivered'})\n",
    "        CREATE (d5:Order {id:'d5', name:'d5', deliverdate:'20110801', status:'delivered'})\n",
    "        CREATE (d6:Order {id:'d6', name:'d6',deliverdate:'20171212', status:'delivered'})\n",
    "\n",
    "        // Link Clients, Orders and ProductsCREATE\n",
    "        CREATE\n",
    "            (Alice)-[:PLACED]->(d1)-[:CONTAINS {quantity:1}]->(prod1),\n",
    "            (d1)-[:CONTAINS {quantity:2}]->(prod2),\n",
    "            (Bob)-[:PLACED]->(d2)-[:CONTAINS {quantity:2}]->(prod1),\n",
    "            (d2)-[:CONTAINS {quantity:6}]->(prod7),\n",
    "            (Cindy)-[:PLACED]->(d3)-[:CONTAINS {quantity:1}]->(prod9),\n",
    "            (Alice)-[:PLACED]->(d4)-[:CONTAINS {quantity:100}]->(prod4),\n",
    "            (Alice)-[:PLACED]->(d5)-[:CONTAINS {quantity:10}]->(prod8),\n",
    "            (Alice)-[:PLACED]->(d6)-[:CONTAINS {quantity:1}]->(prod7);\n",
    "        \"\"\""
   ]
  },
  {
   "cell_type": "code",
   "execution_count": 115,
   "metadata": {},
   "outputs": [
    {
     "name": "stdout",
     "output_type": "stream",
     "text": [
      "Removed All!\n",
      "<Record c=<Node id=22 labels={'Client'} properties={'name': 'Alice', 'billing_address': 'a place', 'shipping_address': 'a place', 'ip': '1.1.1.1'}> o=<Node id=17 labels={'Order'} properties={'name': 'd6', 'id': 'd6', 'deliverdate': '20171212', 'status': 'delivered'}> p=<Node id=12 labels={'Product'} properties={'name': 'kiwi', 'unit': 'box', 'category': 'furit', 'price': 5.3}>>\n",
      "<Record c=<Node id=22 labels={'Client'} properties={'name': 'Alice', 'billing_address': 'a place', 'shipping_address': 'a place', 'ip': '1.1.1.1'}> o=<Node id=16 labels={'Order'} properties={'name': 'd5', 'id': 'd5', 'deliverdate': '20110801', 'status': 'delivered'}> p=<Node id=13 labels={'Product'} properties={'name': 'cherry', 'unit': 'box', 'category': 'furit', 'price': 4.8}>>\n",
      "<Record c=<Node id=22 labels={'Client'} properties={'name': 'Alice', 'billing_address': 'a place', 'shipping_address': 'a place', 'ip': '1.1.1.1'}> o=<Node id=15 labels={'Order'} properties={'name': 'd4', 'id': 'd4', 'deliverdate': '20040612', 'status': 'delivered'}> p=<Node id=9 labels={'Product'} properties={'name': 'cheesecake ice-cream', 'unit': 'box', 'category': 'ice-cream', 'price': 7.9}>>\n",
      "<Record c=<Node id=22 labels={'Client'} properties={'name': 'Alice', 'billing_address': 'a place', 'shipping_address': 'a place', 'ip': '1.1.1.1'}> o=<Node id=0 labels={'Order'} properties={'name': 'd1', 'id': 'd1', 'deliverdate': '20190410', 'status': 'delivered'}> p=<Node id=7 labels={'Product'} properties={'name': 'mint ice-cream', 'unit': 'box', 'category': 'ice-cream', 'price': 6.9}>>\n",
      "<Record c=<Node id=22 labels={'Client'} properties={'name': 'Alice', 'billing_address': 'a place', 'shipping_address': 'a place', 'ip': '1.1.1.1'}> o=<Node id=0 labels={'Order'} properties={'name': 'd1', 'id': 'd1', 'deliverdate': '20190410', 'status': 'delivered'}> p=<Node id=6 labels={'Product'} properties={'name': 'strawberry ice-cream', 'unit': 'box', 'category': 'ice-cream', 'price': 6.9}>>\n",
      "<Record c=<Node id=23 labels={'Client'} properties={'name': 'Bob', 'billing_address': 'b place', 'shipping_address': 'b place', 'ip': '1.1.1.2'}> o=<Node id=1 labels={'Order'} properties={'name': 'd2', 'id': 'd2', 'deliverdate': '20130708', 'status': 'delivered'}> p=<Node id=12 labels={'Product'} properties={'name': 'kiwi', 'unit': 'box', 'category': 'furit', 'price': 5.3}>>\n",
      "<Record c=<Node id=23 labels={'Client'} properties={'name': 'Bob', 'billing_address': 'b place', 'shipping_address': 'b place', 'ip': '1.1.1.2'}> o=<Node id=1 labels={'Order'} properties={'name': 'd2', 'id': 'd2', 'deliverdate': '20130708', 'status': 'delivered'}> p=<Node id=6 labels={'Product'} properties={'name': 'strawberry ice-cream', 'unit': 'box', 'category': 'ice-cream', 'price': 6.9}>>\n",
      "<Record c=<Node id=24 labels={'Client'} properties={'name': 'Cindy', 'billing_address': 'c place', 'shipping_address': 'c place', 'ip': '1.1.1.3'}> o=<Node id=2 labels={'Order'} properties={'name': 'd3', 'id': 'd3', 'deliverdate': '20021201', 'status': 'delivered'}> p=<Node id=14 labels={'Product'} properties={'name': 'strawberry', 'unit': 'box', 'category': 'furit', 'price': 3.9}>>\n"
     ]
    }
   ],
   "source": [
    "with driver.session() as session:\n",
    "    session.write_transaction(delete_all)\n",
    "    session.write_transaction(create_all, query)\n",
    "    \n",
    "    graph = session.read_transaction(display_all, query=\"\"\"MATCH (c:Client)-[:PLACED]-(o)-[:CONTAINS]->(p)\n",
    "                                                return c, o, p;\"\"\")"
   ]
  },
  {
   "cell_type": "code",
   "execution_count": 116,
   "metadata": {},
   "outputs": [
    {
     "data": {
      "text/plain": [
       "<neo4j.types.graph.Graph at 0x21a43340400>"
      ]
     },
     "execution_count": 116,
     "metadata": {},
     "output_type": "execute_result"
    }
   ],
   "source": [
    "graph"
   ]
  },
  {
   "cell_type": "code",
   "execution_count": 117,
   "metadata": {},
   "outputs": [
    {
     "name": "stdout",
     "output_type": "stream",
     "text": [
      "<Record name='Alice' order_id='d4' current_order_cost=790.0 other_orders=['d5', 'd6', 'd1'] other_orders_costs=[48.0, 5.0, 21.0] other_costs_std=22.0>\n",
      "<Record name='Alice' order_id='d5' current_order_cost=48.0 other_orders=['d4', 'd6', 'd1'] other_orders_costs=[790.0, 5.0, 21.0] other_costs_std=449.0>\n",
      "<Record name='Alice' order_id='d6' current_order_cost=5.0 other_orders=['d4', 'd5', 'd1'] other_orders_costs=[790.0, 48.0, 21.0] other_costs_std=436.0>\n",
      "<Record name='Alice' order_id='d1' current_order_cost=21.0 other_orders=['d4', 'd5', 'd6'] other_orders_costs=[790.0, 48.0, 5.0] other_costs_std=441.0>\n"
     ]
    }
   ],
   "source": [
    "with driver.session() as session:\n",
    "    graph = session.read_transaction(display_all, query=\"\"\"MATCH (c:Client {name:'Alice'})-[:PLACED]->(o)-[cts:CONTAINS]->(p)\n",
    "WITH c, o, SUM(cts.quantity * p.price) as order_price\n",
    "  ORDER BY o.deliverdate\n",
    "WITH c.name AS name, COLLECT(o) AS os, COLLECT(order_price) as ops\n",
    "UNWIND [i IN RANGE(0, SIZE(os)-1) |\n",
    "  {name: name, id: os[i].id, current_order_cost: round(ops[i]),\n",
    "  other_orders: [x IN os[0..i] + os[i+1..SIZE(os)] | x.id],\n",
    "  other_orders_costs: [x IN ops[0..i] + ops[i+1..SIZE(os)] | round(x)]\n",
    "  }] AS result\n",
    "WITH result.name as name, result.id as order_id, result.current_order_cost as current_order_cost,\n",
    "result.other_orders as other_orders, result.other_orders_costs as other_orders_costs\n",
    "UNWIND(other_orders_costs) as unwind_other_orders_costs\n",
    "return name, order_id, current_order_cost, other_orders, other_orders_costs,\n",
    "round(stDev(unwind_other_orders_costs)) as other_costs_std;\"\"\")"
   ]
  },
  {
   "cell_type": "code",
   "execution_count": 118,
   "metadata": {},
   "outputs": [
    {
     "data": {
      "text/plain": [
       "<neo4j.types.graph.Graph at 0x21a4334f048>"
      ]
     },
     "execution_count": 118,
     "metadata": {},
     "output_type": "execute_result"
    }
   ],
   "source": [
    "graph"
   ]
  }
 ],
 "metadata": {
  "kernelspec": {
   "display_name": "Python 3",
   "language": "python",
   "name": "python3"
  },
  "language_info": {
   "codemirror_mode": {
    "name": "ipython",
    "version": 3
   },
   "file_extension": ".py",
   "mimetype": "text/x-python",
   "name": "python",
   "nbconvert_exporter": "python",
   "pygments_lexer": "ipython3",
   "version": "3.6.5"
  }
 },
 "nbformat": 4,
 "nbformat_minor": 2
}
